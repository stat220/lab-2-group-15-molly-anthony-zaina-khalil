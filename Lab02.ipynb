{
  "nbformat": 4,
  "nbformat_minor": 0,
  "metadata": {
    "colab": {
      "provenance": []
    },
    "kernelspec": {
      "name": "python3",
      "display_name": "Python 3"
    },
    "language_info": {
      "name": "python"
    }
  },
  "cells": [
    {
      "cell_type": "markdown",
      "source": [
        "In this lab, you will develop a tool that helps users calculate the probabilities of specific events\n",
        "occurring during gameplay, enhancing their strategic planning. For instance, users may wish to\n",
        "calculate the probability of the sum of two six-sided dice being 10 or more.\n",
        "In Dungeons and Dragons, the notation mdn denotes the process of rolling m dice, each with n\n",
        "sides. Here, rolling two six-sided dice is expressed as 2d6, and rolling three eight-sided dice is denoted\n",
        "by 3d8. You are tasked with creating a utility to assist players in the following two scenarios:"
      ],
      "metadata": {
        "id": "PvsgyuZpL2Wm"
      }
    },
    {
      "cell_type": "code",
      "execution_count": null,
      "metadata": {
        "id": "3a-wR0e-J9Gx"
      },
      "outputs": [],
      "source": [
        "import itertools\n",
        "import pandas as pd\n",
        "import numpy as np\n",
        "import scipy.stats as stats\n",
        "from scipy.stats import binom"
      ]
    },
    {
      "cell_type": "markdown",
      "source": [
        " Calculating the probability of rolling m dice, each with n sides, and having the sum of the dice be greater than x. This calculation should only be implemented for m = 1 through 4 and n is at most 20."
      ],
      "metadata": {
        "id": "5sED8X7jMP7E"
      }
    },
    {
      "cell_type": "code",
      "source": [
        "#Scenario A\n",
        "  # \"\"\"\n",
        "  # Calculate the probability that the sum of m n-sided dice is greater than x.\n",
        "\n",
        "  # Parameters:\n",
        "  # m (int): Number of dice.\n",
        "  # n (int): Number of sides on each die.\n",
        "  # x (int): Target sum threshold.\n",
        "\n",
        "  # Returns:\n",
        "  # float: Probability of the sum being greater than x.\n",
        "  # \"\"\"\n",
        "def probability_sum_greater(m, n, x):\n",
        "  if (1 <= m <= 4 and n <= 20):\n",
        "    rolls = list(itertools.product(range(1, n+1), repeat=m))\n",
        "    # Find the sum of all possible rolls\n",
        "    sums = np.array([sum(roll) for roll in rolls])\n",
        "    # Find the proportion of those sums that are greater than or equal to the target\n",
        "    probability = np.mean(sums >= x)\n",
        "    return probability\n",
        "  else:\n",
        "    print(\"Invalid inputs. M should be 1 through 4, and n should be at most 20.\")"
      ],
      "metadata": {
        "id": "qNw-T7R-O0ZN"
      },
      "execution_count": null,
      "outputs": []
    },
    {
      "cell_type": "markdown",
      "source": [
        "Determining the probability of rolling m dice, each with n sides, and having at least one die\n",
        "show a value greater than or equal to x."
      ],
      "metadata": {
        "id": "uCOpjfH0MRMV"
      }
    },
    {
      "cell_type": "code",
      "source": [
        "#Scenario B\n",
        "  # \"\"\"\n",
        "  # Determining the probability of rolling m dice, each with n sides, and having at least one die\n",
        "  # show a value greater than or equal to x\n",
        "\n",
        "  # Parameters:\n",
        "  # m (int): Number of dice.\n",
        "  # n (int): Number of sides on each die.\n",
        "  # x (int): Target sum threshold.\n",
        "\n",
        "  # Returns:\n",
        "  # float: Probability of the sum being greater than or equal to x.\n",
        "  # \"\"\"\n",
        "def probability_at_least_one_equal_to_x(m, n, x):\n",
        "  rolls = list(itertools.product(range(1, n+1), repeat=m))\n",
        "  # probability of not x\n",
        "  probability_of_not_x = ((x-1) / n) **m\n",
        "  # probability of x is 1 - probability of not x\n",
        "  probability = 1- probability_of_not_x\n",
        "\n",
        "\n",
        "  return probability\n",
        "\n",
        "# Test Cases"
      ],
      "metadata": {
        "id": "fAeZJlfSMWQU"
      },
      "execution_count": null,
      "outputs": []
    },
    {
      "cell_type": "markdown",
      "source": [
        "Evaluate the performance of your tool using the following scenario:\n",
        "A player is in a challenging situation where they have a choice. They can choose between the\n",
        "following challenges:\n",
        "• Roll 1d20 and get a result of 17 or more\n",
        "• Roll 3d4 and get a result of 10 or more\n",
        "• Roll 4d6 and have at least one dice show a 6\n",
        "\n",
        "\n",
        "Use your tool to compute the probabilities and report the best choice for the player."
      ],
      "metadata": {
        "id": "y3oh2KFzTPxO"
      }
    },
    {
      "cell_type": "code",
      "source": [
        "print(f\"Option 1: {probability_sum_greater(1,20,17)}\")\n",
        "print(f\"Option 2: {probability_sum_greater(3,4,10)}\")\n",
        "print(f\"Option 3: {probability_at_least_one_equal_to_x(4,6,6)}\")"
      ],
      "metadata": {
        "id": "nF5hAs8vTcny",
        "colab": {
          "base_uri": "https://localhost:8080/"
        },
        "outputId": "2e605827-9210-44a3-82e5-153983bce9c9"
      },
      "execution_count": null,
      "outputs": [
        {
          "output_type": "stream",
          "name": "stdout",
          "text": [
            "Option 1: 0.2\n",
            "Option 2: 0.15625\n",
            "Option 3: 0.5177469135802468\n"
          ]
        }
      ]
    },
    {
      "cell_type": "markdown",
      "source": [
        "Option C appears to be the best option, since Option C is roughly 51%, while Option A is 20% and Option B is 15%. This makes sense since there is more combinations of rolling a 6 compared to rolling 17 or 10."
      ],
      "metadata": {
        "id": "xPcnCtvYex5P"
      }
    }
  ]
}